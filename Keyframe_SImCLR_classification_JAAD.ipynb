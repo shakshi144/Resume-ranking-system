{
 "cells": [
  {
   "cell_type": "markdown",
   "metadata": {
    "colab_type": "text",
    "id": "7ck3ljcss8R2"
   },
   "source": [
    "## Initial setup\n",
    "\n",
    "### labels are Night, Shadow, category"
   ]
  },
  {
   "cell_type": "code",
   "execution_count": 1,
   "metadata": {
    "colab": {
     "base_uri": "https://localhost:8080/",
     "height": 34
    },
    "colab_type": "code",
    "id": "lIYdn1woOS1n",
    "outputId": "e99adefa-b6fd-4bbc-c6f2-a5ac3b5cbafd"
   },
   "outputs": [
    {
     "name": "stdout",
     "output_type": "stream",
     "text": [
      "2.5.0\n"
     ]
    }
   ],
   "source": [
    "import tensorflow as tf\n",
    "print(tf.__version__)"
   ]
  },
  {
   "cell_type": "code",
   "execution_count": 2,
   "metadata": {
    "colab": {
     "base_uri": "https://localhost:8080/",
     "height": 306
    },
    "colab_type": "code",
    "id": "M3obU9ZXpGR0",
    "outputId": "020aead6-5fbe-41ff-f9ae-78c1126bcc41"
   },
   "outputs": [
    {
     "name": "stdout",
     "output_type": "stream",
     "text": [
      "Sun Jan 30 18:22:22 2022       \n",
      "+-----------------------------------------------------------------------------+\n",
      "| NVIDIA-SMI 471.41       Driver Version: 471.41       CUDA Version: 11.4     |\n",
      "|-------------------------------+----------------------+----------------------+\n",
      "| GPU  Name            TCC/WDDM | Bus-Id        Disp.A | Volatile Uncorr. ECC |\n",
      "| Fan  Temp  Perf  Pwr:Usage/Cap|         Memory-Usage | GPU-Util  Compute M. |\n",
      "|                               |                      |               MIG M. |\n",
      "|===============================+======================+======================|\n",
      "|   0  NVIDIA GeForce ... WDDM  | 00000000:01:00.0 Off |                  N/A |\n",
      "| N/A   41C    P0    26W /  N/A |    148MiB /  8192MiB |      0%      Default |\n",
      "|                               |                      |                  N/A |\n",
      "+-------------------------------+----------------------+----------------------+\n",
      "                                                                               \n",
      "+-----------------------------------------------------------------------------+\n",
      "| Processes:                                                                  |\n",
      "|  GPU   GI   CI        PID   Type   Process name                  GPU Memory |\n",
      "|        ID   ID                                                   Usage      |\n",
      "|=============================================================================|\n",
      "|  No running processes found                                                 |\n",
      "+-----------------------------------------------------------------------------+\n"
     ]
    }
   ],
   "source": [
    "!nvidia-smi"
   ]
  },
  {
   "cell_type": "code",
   "execution_count": 3,
   "metadata": {
    "colab": {},
    "colab_type": "code",
    "id": "QaensolgtUxM"
   },
   "outputs": [
    {
     "name": "stdout",
     "output_type": "stream",
     "text": [
      "C:\\Users\\Sohini Roy\\Documents\\JAAD\\SimCLR-in-TensorFlow-2-master\n"
     ]
    }
   ],
   "source": [
    "# import wandb\n",
    "# wandb.login()\n",
    "import os\n",
    "print(os.getcwd())\n",
    "model_path='.\\\\Pretrained_Weights\\\\'\n",
    "img_path=\"C:\\\\Users\\\\Sohini Roy\\\\Documents\\\\JAAD\\\\\""
   ]
  },
  {
   "cell_type": "code",
   "execution_count": 4,
   "metadata": {
    "colab": {},
    "colab_type": "code",
    "id": "dCsK6zBRpmdo"
   },
   "outputs": [],
   "source": [
    "# Other imports\n",
    "from sklearn.preprocessing import LabelEncoder\n",
    "from sklearn.manifold import TSNE\n",
    "from tensorflow.keras.layers import *\n",
    "from tensorflow.keras.models import *\n",
    "#from wandb.keras import WandbCallback\n",
    "import matplotlib.pyplot as plt\n",
    "from imutils import paths\n",
    "from tqdm import tqdm\n",
    "import tensorflow as tf\n",
    "#import seaborn as sns\n",
    "import numpy as np\n",
    "import cv2\n",
    "\n",
    "# Random seed fixation\n",
    "tf.random.set_seed(666)\n",
    "np.random.seed(666)"
   ]
  },
  {
   "cell_type": "markdown",
   "metadata": {
    "colab_type": "text",
    "id": "yP3vs53rs8SM"
   },
   "source": [
    "## Dataset gathering and preparation"
   ]
  },
  {
   "cell_type": "code",
   "execution_count": 5,
   "metadata": {},
   "outputs": [],
   "source": [
    "import pandas as pd\n",
    "df=pd.read_csv(\"C:\\\\Users\\\\Sohini Roy\\\\Documents\\\\JAAD\\\\JAAD_train_frames.csv\")"
   ]
  },
  {
   "cell_type": "code",
   "execution_count": 6,
   "metadata": {},
   "outputs": [
    {
     "data": {
      "text/html": [
       "<div>\n",
       "<style scoped>\n",
       "    .dataframe tbody tr th:only-of-type {\n",
       "        vertical-align: middle;\n",
       "    }\n",
       "\n",
       "    .dataframe tbody tr th {\n",
       "        vertical-align: top;\n",
       "    }\n",
       "\n",
       "    .dataframe thead th {\n",
       "        text-align: right;\n",
       "    }\n",
       "</style>\n",
       "<table border=\"1\" class=\"dataframe\">\n",
       "  <thead>\n",
       "    <tr style=\"text-align: right;\">\n",
       "      <th></th>\n",
       "      <th>Unnamed: 0</th>\n",
       "      <th>seq_no</th>\n",
       "      <th>frame_no</th>\n",
       "      <th>Day</th>\n",
       "      <th>Night</th>\n",
       "      <th>Shadows</th>\n",
       "      <th>Category</th>\n",
       "    </tr>\n",
       "  </thead>\n",
       "  <tbody>\n",
       "    <tr>\n",
       "      <th>0</th>\n",
       "      <td>0</td>\n",
       "      <td>video_0023</td>\n",
       "      <td>00000.png</td>\n",
       "      <td>0</td>\n",
       "      <td>1</td>\n",
       "      <td>0</td>\n",
       "      <td>City</td>\n",
       "    </tr>\n",
       "    <tr>\n",
       "      <th>1</th>\n",
       "      <td>1</td>\n",
       "      <td>video_0023</td>\n",
       "      <td>00001.png</td>\n",
       "      <td>0</td>\n",
       "      <td>1</td>\n",
       "      <td>0</td>\n",
       "      <td>City</td>\n",
       "    </tr>\n",
       "    <tr>\n",
       "      <th>2</th>\n",
       "      <td>2</td>\n",
       "      <td>video_0023</td>\n",
       "      <td>00002.png</td>\n",
       "      <td>0</td>\n",
       "      <td>1</td>\n",
       "      <td>0</td>\n",
       "      <td>City</td>\n",
       "    </tr>\n",
       "    <tr>\n",
       "      <th>3</th>\n",
       "      <td>3</td>\n",
       "      <td>video_0023</td>\n",
       "      <td>00003.png</td>\n",
       "      <td>0</td>\n",
       "      <td>1</td>\n",
       "      <td>0</td>\n",
       "      <td>City</td>\n",
       "    </tr>\n",
       "    <tr>\n",
       "      <th>4</th>\n",
       "      <td>4</td>\n",
       "      <td>video_0023</td>\n",
       "      <td>00004.png</td>\n",
       "      <td>0</td>\n",
       "      <td>1</td>\n",
       "      <td>0</td>\n",
       "      <td>City</td>\n",
       "    </tr>\n",
       "  </tbody>\n",
       "</table>\n",
       "</div>"
      ],
      "text/plain": [
       "   Unnamed: 0      seq_no   frame_no  Day  Night  Shadows Category\n",
       "0           0  video_0023  00000.png    0      1        0     City\n",
       "1           1  video_0023  00001.png    0      1        0     City\n",
       "2           2  video_0023  00002.png    0      1        0     City\n",
       "3           3  video_0023  00003.png    0      1        0     City\n",
       "4           4  video_0023  00004.png    0      1        0     City"
      ]
     },
     "execution_count": 6,
     "metadata": {},
     "output_type": "execute_result"
    }
   ],
   "source": [
    "df.head()"
   ]
  },
  {
   "cell_type": "code",
   "execution_count": 7,
   "metadata": {},
   "outputs": [],
   "source": [
    "seq=df[\"seq_no\"]\n",
    "frame=df[\"frame_no\"]\n",
    "lab=df[\"Night\"].astype(str)+df[\"Shadows\"].astype(str)+df[\"Category\"]\n",
    "nf=int(len(seq))"
   ]
  },
  {
   "cell_type": "code",
   "execution_count": 8,
   "metadata": {},
   "outputs": [],
   "source": [
    "if not os.path.exists('.\\\\train_ssim\\\\'):\n",
    "     os.makedirs('.\\\\train_ssim\\\\')"
   ]
  },
  {
   "cell_type": "code",
   "execution_count": 9,
   "metadata": {
    "colab": {
     "base_uri": "https://localhost:8080/",
     "height": 34
    },
    "colab_type": "code",
    "id": "2PRnOXCdppEg",
    "outputId": "26d0f0bc-3aeb-4dc5-c68b-5ac258c731f4"
   },
   "outputs": [],
   "source": [
    "img_path=\"C:\\\\Users\\\\Sohini Roy\\\\Documents\\\\JAAD\\\\images\\\\\""
   ]
  },
  {
   "cell_type": "code",
   "execution_count": 10,
   "metadata": {
    "colab": {},
    "colab_type": "code",
    "id": "9giRP85TqizW"
   },
   "outputs": [],
   "source": [
    "def prepare_images(image_paths):\n",
    "    images = []\n",
    "    \n",
    "\n",
    "    for image in tqdm(image_paths):\n",
    "        image_pixels = plt.imread(image)\n",
    "        image_pixels = cv2.resize(image_pixels, (224, 224))\n",
    "        image_pixels = image_pixels/255.\n",
    "\n",
    "        \n",
    "\n",
    "        images.append(image_pixels)\n",
    "        \n",
    "\n",
    "    images = np.array(images)\n",
    "   \n",
    "    print(images.shape)\n",
    "\n",
    "    return images"
   ]
  },
  {
   "cell_type": "code",
   "execution_count": 11,
   "metadata": {},
   "outputs": [],
   "source": [
    "from shutil import copyfile\n",
    "train_images=[]\n",
    "train_labels=[]\n",
    " #This is train data\n",
    "for v in range(len(seq)):\n",
    "    copyfile(img_path+seq[v]+'\\\\'+frame[v],'.\\\\train\\\\'+seq[v]+frame[v])\n",
    "    train_images.append('.\\\\train\\\\'+seq[v]+frame[v])\n",
    "    train_labels.append(lab[v])\n",
    "train_labels=np.array(train_labels)"
   ]
  },
  {
   "cell_type": "code",
   "execution_count": 12,
   "metadata": {
    "colab": {
     "base_uri": "https://localhost:8080/",
     "height": 85
    },
    "colab_type": "code",
    "id": "YJL8IW6UsHkt",
    "outputId": "40d6680c-b4e5-4ef8-fede-cc63a38b2c99"
   },
   "outputs": [
    {
     "name": "stderr",
     "output_type": "stream",
     "text": [
      "100%|██████████████████████████████████████████████████████████████████████████████| 1431/1431 [01:03<00:00, 22.56it/s]\n"
     ]
    },
    {
     "name": "stdout",
     "output_type": "stream",
     "text": [
      "(1431, 224, 224, 3)\n"
     ]
    }
   ],
   "source": [
    "X_train = prepare_images(train_images)\n",
    "y_train=train_labels\n",
    "#X_test, y_test = prepare_images(test_images)"
   ]
  },
  {
   "cell_type": "code",
   "execution_count": 13,
   "metadata": {},
   "outputs": [],
   "source": [
    "#Now create test data\n",
    "#We do this later\n",
    "#--------------------------------------------------------------------------------------------------------\n",
    "test_images=[]\n",
    "test_labels=[]\n",
    "\n",
    "df_test=pd.read_csv(\"C:\\\\Users\\\\Sohini Roy\\\\Documents\\\\JAAD\\\\JAAD_test_frames.csv\")\n",
    "seq_t=df_test[\"seq_no\"]\n",
    "frame_t=df_test[\"frame_no\"]\n",
    "lab_t=df_test[\"Night\"].astype(str)+df_test[\"Shadows\"].astype(str)+df_test[\"Category\"]\n",
    "nt=int(len(seq_t))\n",
    "\n",
    "for vi in range(nt):\n",
    "    #copyfile(img_path+seq[vi]+'\\\\'+frame[vi],'.\\\\test\\\\'+seq[vi]+frame[vi])\n",
    "    test_images.append(img_path+seq_t[vi]+'\\\\'+frame_t[vi])\n",
    "    test_labels.append(lab_t[vi])\n",
    "test_labels=np.array(test_labels)\n"
   ]
  },
  {
   "cell_type": "code",
   "execution_count": 14,
   "metadata": {},
   "outputs": [
    {
     "name": "stderr",
     "output_type": "stream",
     "text": [
      "100%|██████████████████████████████████████████████████████████████████████████████| 4670/4670 [03:37<00:00, 21.49it/s]\n"
     ]
    },
    {
     "name": "stdout",
     "output_type": "stream",
     "text": [
      "(4670, 224, 224, 3)\n"
     ]
    }
   ],
   "source": [
    "X_test = prepare_images(test_images)\n",
    "y_test=test_labels"
   ]
  },
  {
   "cell_type": "code",
   "execution_count": 15,
   "metadata": {
    "colab": {},
    "colab_type": "code",
    "id": "YAv47WlJvse5"
   },
   "outputs": [],
   "source": [
    "le = LabelEncoder()\n",
    "y_train_enc = le.fit_transform(y_train)\n",
    "y_test_enc = le.transform(y_test)"
   ]
  },
  {
   "cell_type": "code",
   "execution_count": 16,
   "metadata": {},
   "outputs": [
    {
     "data": {
      "text/plain": [
       "['00City', '00Pedestrians', '01City', '01Pedestrians', '10City']"
      ]
     },
     "execution_count": 16,
     "metadata": {},
     "output_type": "execute_result"
    }
   ],
   "source": [
    "list(le.inverse_transform([0,1,2,3,4]))"
   ]
  },
  {
   "cell_type": "markdown",
   "metadata": {
    "colab_type": "text",
    "id": "vdM74W7Ws8Sl"
   },
   "source": [
    "## Utilities"
   ]
  },
  {
   "cell_type": "code",
   "execution_count": 17,
   "metadata": {
    "colab": {},
    "colab_type": "code",
    "id": "G8ha8pK7sSUO"
   },
   "outputs": [],
   "source": [
    "# Architecture utils\n",
    "def get_resnet_simclr(hidden_1, hidden_2, hidden_3):\n",
    "    base_model = tf.keras.applications.ResNet50(include_top=False, weights=None, input_shape=(224, 224, 3))\n",
    "    base_model.trainable = True\n",
    "    inputs = Input((224, 224, 3))\n",
    "    h = base_model(inputs, training=False)\n",
    "    h = GlobalAveragePooling2D()(h)\n",
    "\n",
    "    projection_1 = Dense(hidden_1)(h)\n",
    "    projection_1 = Activation(\"relu\")(projection_1)\n",
    "    projection_2 = Dense(hidden_2)(projection_1)\n",
    "    projection_2 = Activation(\"relu\")(projection_2)\n",
    "    projection_3 = Dense(hidden_3)(projection_2)\n",
    "\n",
    "    resnet_simclr = Model(inputs, projection_3)\n",
    "\n",
    "    return resnet_simclr"
   ]
  },
  {
   "cell_type": "code",
   "execution_count": 18,
   "metadata": {
    "colab": {
     "base_uri": "https://localhost:8080/",
     "height": 425
    },
    "colab_type": "code",
    "id": "X0GklYB-sZYz",
    "outputId": "69ad5215-d3e5-43ca-8937-5d14217675ee"
   },
   "outputs": [
    {
     "name": "stdout",
     "output_type": "stream",
     "text": [
      "Model: \"model\"\n",
      "_________________________________________________________________\n",
      "Layer (type)                 Output Shape              Param #   \n",
      "=================================================================\n",
      "input_2 (InputLayer)         [(None, 224, 224, 3)]     0         \n",
      "_________________________________________________________________\n",
      "resnet50 (Functional)        (None, 7, 7, 2048)        23587712  \n",
      "_________________________________________________________________\n",
      "global_average_pooling2d (Gl (None, 2048)              0         \n",
      "_________________________________________________________________\n",
      "dense (Dense)                (None, 256)               524544    \n",
      "_________________________________________________________________\n",
      "activation (Activation)      (None, 256)               0         \n",
      "_________________________________________________________________\n",
      "dense_1 (Dense)              (None, 128)               32896     \n",
      "_________________________________________________________________\n",
      "activation_1 (Activation)    (None, 128)               0         \n",
      "_________________________________________________________________\n",
      "dense_2 (Dense)              (None, 50)                6450      \n",
      "=================================================================\n",
      "Total params: 24,151,602\n",
      "Trainable params: 24,098,482\n",
      "Non-trainable params: 53,120\n",
      "_________________________________________________________________\n"
     ]
    }
   ],
   "source": [
    "resnet_simclr = get_resnet_simclr(256, 128,50)\n",
    "resnet_simclr.load_weights('.\\\\Pretrained_Weights\\\\20200508-134915resnet_simclr.h5')\n",
    "resnet_simclr.summary()"
   ]
  },
  {
   "cell_type": "code",
   "execution_count": 19,
   "metadata": {
    "colab": {},
    "colab_type": "code",
    "id": "Z1tFKw-7ziaG"
   },
   "outputs": [],
   "source": [
    "def plot_training(H):\n",
    "\tplt.plot(H.history[\"loss\"], label=\"train_loss\")\n",
    "\tplt.plot(H.history[\"val_loss\"], label=\"val_loss\")\n",
    "\tplt.plot(H.history[\"accuracy\"], label=\"train_acc\")\n",
    "\tplt.plot(H.history[\"val_accuracy\"], label=\"val_acc\")\n",
    "\tplt.title(\"Training Loss and Accuracy\")\n",
    "\tplt.xlabel(\"Epoch #\")\n",
    "\tplt.ylabel(\"Loss/Accuracy\")\n",
    "\tplt.legend(loc=\"lower left\")\n",
    "\tplt.show()"
   ]
  },
  {
   "cell_type": "code",
   "execution_count": 20,
   "metadata": {
    "colab": {},
    "colab_type": "code",
    "id": "7XojYORatX4p"
   },
   "outputs": [],
   "source": [
    "def get_linear_model(features):\n",
    "    linear_model = Sequential([Dense(5, input_shape=(features, ), activation=\"softmax\")])\n",
    "    return linear_model"
   ]
  },
  {
   "cell_type": "markdown",
   "metadata": {
    "colab_type": "text",
    "id": "_s0nfTYos8Sy"
   },
   "source": [
    "## Evaluation"
   ]
  },
  {
   "cell_type": "code",
   "execution_count": 21,
   "metadata": {
    "colab": {},
    "colab_type": "code",
    "id": "RGk081OMMl2a"
   },
   "outputs": [
    {
     "name": "stdout",
     "output_type": "stream",
     "text": [
      "Model: \"model\"\n",
      "_________________________________________________________________\n",
      "Layer (type)                 Output Shape              Param #   \n",
      "=================================================================\n",
      "input_2 (InputLayer)         [(None, 224, 224, 3)]     0         \n",
      "_________________________________________________________________\n",
      "resnet50 (Functional)        (None, 7, 7, 2048)        23587712  \n",
      "_________________________________________________________________\n",
      "global_average_pooling2d (Gl (None, 2048)              0         \n",
      "_________________________________________________________________\n",
      "dense (Dense)                (None, 256)               524544    \n",
      "_________________________________________________________________\n",
      "activation (Activation)      (None, 256)               0         \n",
      "_________________________________________________________________\n",
      "dense_1 (Dense)              (None, 128)               32896     \n",
      "_________________________________________________________________\n",
      "activation_1 (Activation)    (None, 128)               0         \n",
      "_________________________________________________________________\n",
      "dense_2 (Dense)              (None, 50)                6450      \n",
      "=================================================================\n",
      "Total params: 24,151,602\n",
      "Trainable params: 563,890\n",
      "Non-trainable params: 23,587,712\n",
      "_________________________________________________________________\n"
     ]
    }
   ],
   "source": [
    "resnet_simclr.layers[1].trainable = False\n",
    "resnet_simclr.summary()"
   ]
  },
  {
   "cell_type": "code",
   "execution_count": 22,
   "metadata": {
    "colab": {
     "base_uri": "https://localhost:8080/",
     "height": 34
    },
    "colab_type": "code",
    "id": "AIjHhSofSUWl",
    "outputId": "e261856d-410f-4dc6-a9dc-cdb7816ed2b0"
   },
   "outputs": [
    {
     "name": "stdout",
     "output_type": "stream",
     "text": [
      "(1431, 2048)\n"
     ]
    }
   ],
   "source": [
    "# Encoder model with no projection\n",
    "projection = Model(resnet_simclr.input, resnet_simclr.layers[-6].output)\n",
    "\n",
    "# Extract train and test features\n",
    "train_features = projection.predict(X_train)\n",
    "#test_features = projection.predict(X_test)\n",
    "\n",
    "print(train_features.shape)#, test_features.shape)"
   ]
  },
  {
   "cell_type": "code",
   "execution_count": 23,
   "metadata": {},
   "outputs": [],
   "source": [
    "# Early Stopping to prevent overfitting\n",
    "es = tf.keras.callbacks.EarlyStopping(monitor=\"loss\", patience=5, verbose=2, restore_best_weights=True)"
   ]
  },
  {
   "cell_type": "code",
   "execution_count": 24,
   "metadata": {
    "colab": {
     "base_uri": "https://localhost:8080/",
     "height": 830
    },
    "colab_type": "code",
    "id": "iDFeqRqVSqzs",
    "outputId": "8a9f646d-93bc-42ac-88e7-850fb52c8fa9"
   },
   "outputs": [
    {
     "name": "stdout",
     "output_type": "stream",
     "text": [
      "Epoch 1/35\n",
      "9/9 [==============================] - 0s 15ms/step - loss: 3.7854 - accuracy: 0.4677 - val_loss: 10.2895 - val_accuracy: 0.4808\n",
      "Epoch 2/35\n",
      "9/9 [==============================] - 0s 3ms/step - loss: 1.9430 - accuracy: 0.4030 - val_loss: 11.8868 - val_accuracy: 0.4808\n",
      "Epoch 3/35\n",
      "9/9 [==============================] - 0s 3ms/step - loss: 1.4701 - accuracy: 0.4913 - val_loss: 12.4900 - val_accuracy: 0.4808\n",
      "Epoch 4/35\n",
      "9/9 [==============================] - 0s 3ms/step - loss: 1.2696 - accuracy: 0.5909 - val_loss: 12.9579 - val_accuracy: 0.4808\n",
      "Epoch 5/35\n",
      "9/9 [==============================] - 0s 3ms/step - loss: 1.1916 - accuracy: 0.5909 - val_loss: 13.0575 - val_accuracy: 0.4808\n",
      "Epoch 6/35\n",
      "9/9 [==============================] - 0s 3ms/step - loss: 1.1174 - accuracy: 0.5909 - val_loss: 13.1339 - val_accuracy: 0.4808\n",
      "Epoch 7/35\n",
      "9/9 [==============================] - 0s 3ms/step - loss: 1.1182 - accuracy: 0.5909 - val_loss: 13.1337 - val_accuracy: 0.4808\n",
      "Epoch 8/35\n",
      "9/9 [==============================] - 0s 3ms/step - loss: 1.1121 - accuracy: 0.5909 - val_loss: 13.1543 - val_accuracy: 0.4808\n",
      "Epoch 9/35\n",
      "9/9 [==============================] - 0s 3ms/step - loss: 1.1065 - accuracy: 0.5909 - val_loss: 13.1999 - val_accuracy: 0.4808\n",
      "Epoch 10/35\n",
      "9/9 [==============================] - 0s 3ms/step - loss: 1.1190 - accuracy: 0.5909 - val_loss: 13.1591 - val_accuracy: 0.4808\n",
      "Epoch 11/35\n",
      "9/9 [==============================] - 0s 3ms/step - loss: 1.1324 - accuracy: 0.5909 - val_loss: 13.1704 - val_accuracy: 0.4808\n",
      "Epoch 12/35\n",
      "9/9 [==============================] - 0s 3ms/step - loss: 1.1252 - accuracy: 0.5909 - val_loss: 13.1975 - val_accuracy: 0.4808\n",
      "Epoch 13/35\n",
      "9/9 [==============================] - 0s 4ms/step - loss: 1.1157 - accuracy: 0.5909 - val_loss: 13.1864 - val_accuracy: 0.4808\n",
      "Epoch 14/35\n",
      "9/9 [==============================] - 0s 3ms/step - loss: 1.1115 - accuracy: 0.5909 - val_loss: 13.1827 - val_accuracy: 0.4808\n",
      "Restoring model weights from the end of the best epoch.\n",
      "Epoch 00014: early stopping\n"
     ]
    },
    {
     "data": {
      "image/png": "[encoded data removed]",
      "text/plain": [
       "<Figure size 432x288 with 1 Axes>"
      ]
     },
     "metadata": {
      "needs_background": "light"
     },
     "output_type": "display_data"
    }
   ],
   "source": [
    "#wandb.init(project=\"simclr\", id=\"linear-eval-no-projections\")\n",
    "\n",
    "linear_model = get_linear_model(2048)\n",
    "linear_model.compile(loss=\"sparse_categorical_crossentropy\", metrics=[\"accuracy\"],\n",
    "                     optimizer=\"adam\")\n",
    "history = linear_model.fit(train_features, y_train_enc,\n",
    "                 validation_split=0.2,\n",
    "                 batch_size=128,\n",
    "                 epochs=35,\n",
    "                 callbacks=[es])\n",
    "plot_training(history)"
   ]
  },
  {
   "cell_type": "code",
   "execution_count": 25,
   "metadata": {},
   "outputs": [
    {
     "name": "stdout",
     "output_type": "stream",
     "text": [
      "Model: \"sequential\"\n",
      "_________________________________________________________________\n",
      "Layer (type)                 Output Shape              Param #   \n",
      "=================================================================\n",
      "dense_3 (Dense)              (None, 5)                 10245     \n",
      "=================================================================\n",
      "Total params: 10,245\n",
      "Trainable params: 10,245\n",
      "Non-trainable params: 0\n",
      "_________________________________________________________________\n"
     ]
    }
   ],
   "source": [
    "linear_model.summary()"
   ]
  },
  {
   "cell_type": "code",
   "execution_count": 26,
   "metadata": {},
   "outputs": [
    {
     "name": "stdout",
     "output_type": "stream",
     "text": [
      "Test loss: 3.5354862213134766\n",
      "Test accuracy: 0.5688329935073853\n"
     ]
    }
   ],
   "source": [
    "loss, accuracy = linear_model.evaluate(train_features, y_train_enc, verbose=0)\n",
    "print('Test loss:', loss)\n",
    "print('Test accuracy:', accuracy)"
   ]
  },
  {
   "cell_type": "markdown",
   "metadata": {},
   "source": [
    "# Best feature Space is: PCA, or TSNE (perp 100), layers (op, -2, -4, -6)\n",
    "## Train JAAD on: 0022, 0023, 0286, 0292, 0295, 0303"
   ]
  },
  {
   "cell_type": "code",
   "execution_count": 27,
   "metadata": {},
   "outputs": [],
   "source": [
    "%matplotlib inline\n",
    "import matplotlib.pyplot as plt\n",
    "from sklearn.metrics import accuracy_score\n",
    "\n",
    "# Plot a confusion matrix.\n",
    "# cm is the confusion matrix, names are the names of the classes.\n",
    "def plot_confusion_matrix(cm, names, title='Confusion matrix', \n",
    "                            cmap=plt.cm.Blues):\n",
    "    plt.imshow(cm, interpolation='nearest', cmap=cmap)\n",
    "    plt.title(title)\n",
    "    plt.colorbar()\n",
    "    tick_marks = np.arange(len(names))\n",
    "    plt.xticks(tick_marks, names, rotation=45)\n",
    "    plt.yticks(tick_marks, names)\n",
    "    plt.tight_layout()\n",
    "    plt.ylabel('True label')\n",
    "    plt.xlabel('Predicted label')\n",
    "    \n"
   ]
  },
  {
   "cell_type": "code",
   "execution_count": 28,
   "metadata": {},
   "outputs": [],
   "source": [
    "# Apply label spreading to figure out best representation space\n",
    "from sklearn.semi_supervised import LabelSpreading\n",
    "from sklearn.metrics import confusion_matrix, precision_recall_fscore_support\n",
    "from sklearn.decomposition import PCA\n",
    "from sklearn.metrics import accuracy_score\n",
    "\n",
    "def train_test_data_create(X_train, X_test, la):\n",
    "    # First generate dimension reduced features for train and test\n",
    "    projection = Model(resnet_simclr.input, resnet_simclr.layers[-la].output)\n",
    "    train_features = projection.predict(X_train)\n",
    "    test_features=projection.predict(X_test)\n",
    "    #pca = TSNE(perplexity=100)\n",
    "    #pca.fit(train_features)\n",
    "    pca=PCA(n_components=5)\n",
    "    train_data = pca.fit_transform(train_features)\n",
    "    test_data=pca.fit_transform(test_features)\n",
    "    return (train_data, test_data)\n",
    "    \n",
    "\n",
    "def test_scenes_results(train_data, train_labels, test_data, test_labels):\n",
    "    \n",
    "   \n",
    "    # train and test features have similar dimensions\n",
    "    #label_prop_model = LabelSpreading(kernel='knn', n_neighbors=2001, gamma=500, alpha=0.1)\n",
    "    label_prop_model = LabelSpreading(kernel='rbf', gamma=2000, alpha=0.01)\n",
    "    ul=-1*np.ones(nt)\n",
    "    \n",
    "    #################Modify algo here\n",
    "    #print(train_features.shape, test_features.shape)\n",
    "    data_X=np.concatenate((train_data,test_data))\n",
    "    data_Y=np.concatenate((train_labels,ul))\n",
    "    label_prop_model.fit(data_X, data_Y)\n",
    "    pred_lb = label_prop_model.predict(data_X)\n",
    "    n=len(train_labels)\n",
    "    predl=(pred_lb[n:])\n",
    "    acc=accuracy_score(test_labels, predl)\n",
    "    print('Accuracy=', acc)\n",
    "    pr1, rec1, fscore1, _=precision_recall_fscore_support(test_labels, predl, average='macro')\n",
    "    print('Macro results=', pr1, rec1, fscore1)\n",
    "    pr2, rec2, fscore2, _=precision_recall_fscore_support(test_labels, predl, average='weighted')\n",
    "    print('weighted results=', pr2, rec2, fscore2)\n",
    "    cm = confusion_matrix(test_labels, predl)\n",
    "    np.set_printoptions(precision=2)\n",
    "    print('Confusion matrix')\n",
    "    print(cm)\n",
    "    plt.figure()\n",
    "    plot_confusion_matrix(cm,'01234')\n",
    "    return(predl)\n",
    "  "
   ]
  },
  {
   "cell_type": "code",
   "execution_count": 29,
   "metadata": {},
   "outputs": [
    {
     "name": "stdout",
     "output_type": "stream",
     "text": [
      "Accuracy= 0.9214132762312633\n",
      "Macro results= 0.34135751559981364 0.380216720389548 0.3595067019975935\n",
      "weighted results= 0.8641044407287425 0.9214132762312633 0.8917442886494229\n",
      "Confusion matrix\n",
      "[[   0    0   90    0    0]\n",
      " [   0    0   54    0    0]\n",
      " [   0    0 4111    0   55]\n",
      " [   0    0  150    0    0]\n",
      " [   0    0   18    0  192]]\n"
     ]
    },
    {
     "name": "stderr",
     "output_type": "stream",
     "text": [
      "C:\\Users\\Sohini Roy\\anaconda3\\envs\\flow\\lib\\site-packages\\sklearn\\metrics\\_classification.py:1248: UndefinedMetricWarning: Precision and F-score are ill-defined and being set to 0.0 in labels with no predicted samples. Use `zero_division` parameter to control this behavior.\n",
      "  _warn_prf(average, modifier, msg_start, len(result))\n",
      "C:\\Users\\Sohini Roy\\anaconda3\\envs\\flow\\lib\\site-packages\\sklearn\\metrics\\_classification.py:1248: UndefinedMetricWarning: Precision and F-score are ill-defined and being set to 0.0 in labels with no predicted samples. Use `zero_division` parameter to control this behavior.\n",
      "  _warn_prf(average, modifier, msg_start, len(result))\n"
     ]
    },
    {
     "data": {
      "image/png": "[encoded data removed]",
      "text/plain": [
       "<Figure size 432x288 with 2 Axes>"
      ]
     },
     "metadata": {
      "needs_background": "light"
     },
     "output_type": "display_data"
    }
   ],
   "source": [
    "data_train, data_test= train_test_data_create(X_train, X_test, 6)\n",
    "predl=test_scenes_results(data_train, y_train_enc, data_test, y_test_enc)"
   ]
  },
  {
   "cell_type": "code",
   "execution_count": 30,
   "metadata": {},
   "outputs": [
    {
     "name": "stdout",
     "output_type": "stream",
     "text": [
      "Accuracy= 0.9214132762312633\n",
      "Macro results= 0.34135751559981364 0.380216720389548 0.3595067019975935\n",
      "weighted results= 0.8641044407287425 0.9214132762312633 0.8917442886494229\n",
      "Confusion matrix\n",
      "[[   0    0   90    0    0]\n",
      " [   0    0   54    0    0]\n",
      " [   0    0 4111    0   55]\n",
      " [   0    0  150    0    0]\n",
      " [   0    0   18    0  192]]\n"
     ]
    },
    {
     "name": "stderr",
     "output_type": "stream",
     "text": [
      "C:\\Users\\Sohini Roy\\anaconda3\\envs\\flow\\lib\\site-packages\\sklearn\\metrics\\_classification.py:1248: UndefinedMetricWarning: Precision and F-score are ill-defined and being set to 0.0 in labels with no predicted samples. Use `zero_division` parameter to control this behavior.\n",
      "  _warn_prf(average, modifier, msg_start, len(result))\n",
      "C:\\Users\\Sohini Roy\\anaconda3\\envs\\flow\\lib\\site-packages\\sklearn\\metrics\\_classification.py:1248: UndefinedMetricWarning: Precision and F-score are ill-defined and being set to 0.0 in labels with no predicted samples. Use `zero_division` parameter to control this behavior.\n",
      "  _warn_prf(average, modifier, msg_start, len(result))\n"
     ]
    },
    {
     "data": {
      "image/png": "[encoded data removed]",
      "text/plain": [
       "<Figure size 432x288 with 2 Axes>"
      ]
     },
     "metadata": {
      "needs_background": "light"
     },
     "output_type": "display_data"
    }
   ],
   "source": [
    "predl=test_scenes_results(data_train, y_train_enc, data_test, y_test_enc)"
   ]
  },
  {
   "cell_type": "code",
   "execution_count": 31,
   "metadata": {},
   "outputs": [
    {
     "name": "stderr",
     "output_type": "stream",
     "text": [
      "C:\\Users\\Sohini Roy\\anaconda3\\envs\\flow\\lib\\site-packages\\sklearn\\semi_supervised\\_label_propagation.py:290: ConvergenceWarning: max_iter=30 was reached without convergence.\n",
      "  warnings.warn(\n",
      "C:\\Users\\Sohini Roy\\anaconda3\\envs\\flow\\lib\\site-packages\\sklearn\\semi_supervised\\_label_propagation.py:290: ConvergenceWarning: max_iter=30 was reached without convergence.\n",
      "  warnings.warn(\n",
      "C:\\Users\\Sohini Roy\\anaconda3\\envs\\flow\\lib\\site-packages\\sklearn\\semi_supervised\\_label_propagation.py:290: ConvergenceWarning: max_iter=30 was reached without convergence.\n",
      "  warnings.warn(\n",
      "C:\\Users\\Sohini Roy\\anaconda3\\envs\\flow\\lib\\site-packages\\sklearn\\semi_supervised\\_label_propagation.py:290: ConvergenceWarning: max_iter=30 was reached without convergence.\n",
      "  warnings.warn(\n"
     ]
    }
   ],
   "source": [
    "#def key_frames_detection(train_data, train_labels, test_data):\n",
    "    \n",
    "import random   \n",
    "    # train and test features have similar dimensions\n",
    "    \n",
    "ul=-1*np.ones(nt)\n",
    "    \n",
    "    #################Modify algo here\n",
    "    #print(train_features.shape, test_features.shape)\n",
    "data_X=np.concatenate((data_train,data_test))\n",
    "data_Y=np.concatenate((y_train_enc,ul))\n",
    "predl=np.zeros((len(data_test),10))\n",
    "for i in range(10):\n",
    "    a=random.uniform(0,1)\n",
    "    label_prop_model = LabelSpreading(kernel='knn', n_neighbors=581, gamma=int(a*1000), alpha=a)\n",
    "    label_prop_model.fit(data_X, data_Y)\n",
    "    pred_lb = label_prop_model.predict(data_X)\n",
    "    n=len(train_labels)\n",
    "    predl[:,i]=pred_lb[n:]\n",
    "\n",
    "# fix gamma at 200 for fewer images"
   ]
  },
  {
   "cell_type": "code",
   "execution_count": 32,
   "metadata": {},
   "outputs": [],
   "source": [
    "# Uncertain samples are ones that have 3 or graeter variants in labels\n",
    "key_frame=[]\n",
    "for j in range(nt):\n",
    "    labl=(len(np.unique(predl[j,:])))\n",
    "    if labl>1:\n",
    "        key_frame.append(j)"
   ]
  },
  {
   "cell_type": "code",
   "execution_count": 33,
   "metadata": {},
   "outputs": [
    {
     "name": "stdout",
     "output_type": "stream",
     "text": [
      "(328,) 0.0702355460385439\n"
     ]
    }
   ],
   "source": [
    "key_frame=np.array(key_frame)\n",
    "print(np.shape(key_frame), len(key_frame)/nt)"
   ]
  },
  {
   "cell_type": "code",
   "execution_count": 34,
   "metadata": {},
   "outputs": [],
   "source": [
    "filtered=pd.DataFrame(columns=[\"index\", \"seq_no\", \"frame_no\", \"Actual Label\"])"
   ]
  },
  {
   "cell_type": "code",
   "execution_count": 35,
   "metadata": {},
   "outputs": [],
   "source": [
    "filtered['seq_no']=seq_t[key_frame]\n",
    "filtered['frame_no']=frame_t[key_frame]\n",
    "filtered['Actual Label']=y_test_enc[key_frame]\n",
    "filtered['index']=key_frame"
   ]
  },
  {
   "cell_type": "code",
   "execution_count": 36,
   "metadata": {},
   "outputs": [
    {
     "data": {
      "text/html": [
       "<div>\n",
       "<style scoped>\n",
       "    .dataframe tbody tr th:only-of-type {\n",
       "        vertical-align: middle;\n",
       "    }\n",
       "\n",
       "    .dataframe tbody tr th {\n",
       "        vertical-align: top;\n",
       "    }\n",
       "\n",
       "    .dataframe thead th {\n",
       "        text-align: right;\n",
       "    }\n",
       "</style>\n",
       "<table border=\"1\" class=\"dataframe\">\n",
       "  <thead>\n",
       "    <tr style=\"text-align: right;\">\n",
       "      <th></th>\n",
       "      <th>index</th>\n",
       "      <th>seq_no</th>\n",
       "      <th>frame_no</th>\n",
       "      <th>Actual Label</th>\n",
       "    </tr>\n",
       "  </thead>\n",
       "  <tbody>\n",
       "    <tr>\n",
       "      <th>114</th>\n",
       "      <td>114</td>\n",
       "      <td>video_0024</td>\n",
       "      <td>00114.png</td>\n",
       "      <td>4</td>\n",
       "    </tr>\n",
       "    <tr>\n",
       "      <th>115</th>\n",
       "      <td>115</td>\n",
       "      <td>video_0024</td>\n",
       "      <td>00115.png</td>\n",
       "      <td>4</td>\n",
       "    </tr>\n",
       "    <tr>\n",
       "      <th>116</th>\n",
       "      <td>116</td>\n",
       "      <td>video_0024</td>\n",
       "      <td>00116.png</td>\n",
       "      <td>4</td>\n",
       "    </tr>\n",
       "    <tr>\n",
       "      <th>117</th>\n",
       "      <td>117</td>\n",
       "      <td>video_0024</td>\n",
       "      <td>00117.png</td>\n",
       "      <td>4</td>\n",
       "    </tr>\n",
       "    <tr>\n",
       "      <th>118</th>\n",
       "      <td>118</td>\n",
       "      <td>video_0024</td>\n",
       "      <td>00118.png</td>\n",
       "      <td>4</td>\n",
       "    </tr>\n",
       "  </tbody>\n",
       "</table>\n",
       "</div>"
      ],
      "text/plain": [
       "     index      seq_no   frame_no  Actual Label\n",
       "114    114  video_0024  00114.png             4\n",
       "115    115  video_0024  00115.png             4\n",
       "116    116  video_0024  00116.png             4\n",
       "117    117  video_0024  00117.png             4\n",
       "118    118  video_0024  00118.png             4"
      ]
     },
     "execution_count": 36,
     "metadata": {},
     "output_type": "execute_result"
    }
   ],
   "source": [
    "filtered.head()"
   ]
  },
  {
   "cell_type": "code",
   "execution_count": 38,
   "metadata": {},
   "outputs": [],
   "source": [
    "filtered.to_csv('simclr_filtering.csv')"
   ]
  },
  {
   "cell_type": "code",
   "execution_count": 39,
   "metadata": {},
   "outputs": [
    {
     "data": {
      "text/plain": [
       "4670"
      ]
     },
     "execution_count": 39,
     "metadata": {},
     "output_type": "execute_result"
    }
   ],
   "source": [
    "nt"
   ]
  },
  {
   "cell_type": "code",
   "execution_count": null,
   "metadata": {},
   "outputs": [],
   "source": []
  }
 ],
 "metadata": {
  "accelerator": "GPU",
  "colab": {
   "include_colab_link": true,
   "name": "scratchpad",
   "provenance": []
  },
  "kernelspec": {
   "display_name": "Python 3 (ipykernel)",
   "language": "python",
   "name": "python3"
  },
  "language_info": {
   "codemirror_mode": {
    "name": "ipython",
    "version": 3
   },
   "file_extension": ".py",
   "mimetype": "text/x-python",
   "name": "python",
   "nbconvert_exporter": "python",
   "pygments_lexer": "ipython3",
   "version": "3.9.7"
  }
 },
 "nbformat": 4,
 "nbformat_minor": 1
}
