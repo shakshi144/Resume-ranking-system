{
  "cells": [
    {
      "cell_type": "markdown",
      "metadata": {
        "id": "view-in-github",
        "colab_type": "text"
      },
      "source": [
        "<a href=\"https://colab.research.google.com/github/sohiniroych/AI_with_Sohini_Notebooks/blob/main/Customized_chatGPT.ipynb\" target=\"_parent\"><img src=\"https://colab.research.google.com/assets/colab-badge.svg\" alt=\"Open In Colab\"/></a>"
      ]
    },
    {
      "cell_type": "markdown",
      "source": [
        "#In this notebook, we learn about the stages to tune your own chat-GPT like Large Language Model. The 3 stages are as follows:\n",
        "\n",
        "\n",
        "1.   Locate the Page with the answer (This is the context search phase that needs millions of attention neurons)\n",
        "2.   Summarize the contents on the relevant page\n",
        "3.  Paraphraze the summary to cound human like\n",
        "![chatGPT.png](data:image/png;base64,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)"
      ],
      "metadata": {
        "id": "lhSBAFo5Mo2G"
      }
    },
    {
      "cell_type": "markdown",
      "source": [
        "### Step 0: Install Transformer Model"
      ],
      "metadata": {
        "id": "y0wrc47KNTc_"
      }
    },
    {
      "cell_type": "code",
      "execution_count": 1,
      "metadata": {
        "id": "b_csVoGRqiHf",
        "colab": {
          "base_uri": "https://localhost:8080/"
        },
        "outputId": "cee1567d-52ad-43de-9537-7211b008925b"
      },
      "outputs": [
        {
          "output_type": "stream",
          "name": "stdout",
          "text": [
            "Looking in indexes: https://pypi.org/simple, https://us-python.pkg.dev/colab-wheels/public/simple/\n",
            "Requirement already satisfied: transformers in /usr/local/lib/python3.9/dist-packages (4.27.4)\n",
            "Requirement already satisfied: tqdm>=4.27 in /usr/local/lib/python3.9/dist-packages (from transformers) (4.65.0)\n",
            "Requirement already satisfied: numpy>=1.17 in /usr/local/lib/python3.9/dist-packages (from transformers) (1.22.4)\n",
            "Requirement already satisfied: pyyaml>=5.1 in /usr/local/lib/python3.9/dist-packages (from transformers) (6.0)\n",
            "Requirement already satisfied: filelock in /usr/local/lib/python3.9/dist-packages (from transformers) (3.11.0)\n",
            "Requirement already satisfied: huggingface-hub<1.0,>=0.11.0 in /usr/local/lib/python3.9/dist-packages (from transformers) (0.13.4)\n",
            "Requirement already satisfied: requests in /usr/local/lib/python3.9/dist-packages (from transformers) (2.27.1)\n",
            "Requirement already satisfied: tokenizers!=0.11.3,<0.14,>=0.11.1 in /usr/local/lib/python3.9/dist-packages (from transformers) (0.13.3)\n",
            "Requirement already satisfied: packaging>=20.0 in /usr/local/lib/python3.9/dist-packages (from transformers) (23.0)\n",
            "Requirement already satisfied: regex!=2019.12.17 in /usr/local/lib/python3.9/dist-packages (from transformers) (2022.10.31)\n",
            "Requirement already satisfied: typing-extensions>=3.7.4.3 in /usr/local/lib/python3.9/dist-packages (from huggingface-hub<1.0,>=0.11.0->transformers) (4.5.0)\n",
            "Requirement already satisfied: certifi>=2017.4.17 in /usr/local/lib/python3.9/dist-packages (from requests->transformers) (2022.12.7)\n",
            "Requirement already satisfied: urllib3<1.27,>=1.21.1 in /usr/local/lib/python3.9/dist-packages (from requests->transformers) (1.26.15)\n",
            "Requirement already satisfied: charset-normalizer~=2.0.0 in /usr/local/lib/python3.9/dist-packages (from requests->transformers) (2.0.12)\n",
            "Requirement already satisfied: idna<4,>=2.5 in /usr/local/lib/python3.9/dist-packages (from requests->transformers) (3.4)\n"
          ]
        }
      ],
      "source": [
        "## installation\n",
        "# see https://twitter.com/huggingface/status/1242512382800400384\n",
        "# details https://github.com/huggingface/transformers/releases/tag/v2.6.0\n",
        "!pip install transformers --upgrade"
      ]
    },
    {
      "cell_type": "code",
      "execution_count": 2,
      "metadata": {
        "id": "JUcK3mahrCQN"
      },
      "outputs": [],
      "source": [
        "from transformers import pipeline\n",
        "import requests\n",
        "import pprint\n",
        "import time\n",
        "pp = pprint.PrettyPrinter(indent=14)"
      ]
    },
    {
      "cell_type": "code",
      "execution_count": 3,
      "metadata": {
        "colab": {
          "base_uri": "https://localhost:8080/"
        },
        "id": "H6Srgwu_rRWY",
        "outputId": "f83c9a02-61aa-4219-e68d-33a0c6a335b4"
      },
      "outputs": [
        {
          "output_type": "stream",
          "name": "stderr",
          "text": [
            "/usr/local/lib/python3.9/dist-packages/transformers/models/t5/tokenization_t5_fast.py:155: FutureWarning: This tokenizer was incorrectly instantiated with a model max length of 512 which will be corrected in Transformers v5.\n",
            "For now, this behavior is kept to avoid breaking backwards compatibility when padding/encoding with `truncation is True`.\n",
            "- Be aware that you SHOULD NOT rely on t5-large automatically truncating your input to 512 when padding/encoding.\n",
            "- If you want to encode/pad to sequences longer than 512 you can either instantiate this tokenizer with `model_max_length` or pass `max_length` when encoding/padding.\n",
            "- To avoid this warning, please instantiate this tokenizer with `model_max_length` set to your preferred value.\n",
            "  warnings.warn(\n"
          ]
        }
      ],
      "source": [
        "# System crashes can hapen if using t5-3b and 11b\n",
        "summarizer_t5 = pipeline(task='summarization', model=\"t5-large\") # options: ‘t5-small’, ‘t5-base’, ‘t5-large’, ‘t5-3b’, ‘t5-11b’"
      ]
    },
    {
      "cell_type": "markdown",
      "source": [
        "### Step 1: Bring the pages with context. In this case we upload a file with all the text."
      ],
      "metadata": {
        "id": "osXf9mSRNZd4"
      }
    },
    {
      "cell_type": "code",
      "source": [
        "# Now connect to GDrive and load teh file with ALL CONTEXT\n",
        "from google.colab import drive\n",
        "import os\n",
        "drive.mount('/content/drive')\n",
        "# Change it if necessary\n",
        "os.chdir('/content/drive/MyDrive/')"
      ],
      "metadata": {
        "colab": {
          "base_uri": "https://localhost:8080/"
        },
        "id": "T-cMu8T4HRur",
        "outputId": "a3c485e5-321a-4917-b60b-521195083730"
      },
      "execution_count": 4,
      "outputs": [
        {
          "output_type": "stream",
          "name": "stdout",
          "text": [
            "Drive already mounted at /content/drive; to attempt to forcibly remount, call drive.mount(\"/content/drive\", force_remount=True).\n"
          ]
        }
      ]
    },
    {
      "cell_type": "code",
      "source": [
        "import pathlib\n",
        "\n",
        "list(pathlib.Path('./').glob('*.txt'))"
      ],
      "metadata": {
        "colab": {
          "base_uri": "https://localhost:8080/"
        },
        "id": "OJJFgIGqIW12",
        "outputId": "79ac1b0b-a676-4350-94b6-673aee1fe64b"
      },
      "execution_count": 5,
      "outputs": [
        {
          "output_type": "execute_result",
          "data": {
            "text/plain": [
              "[PosixPath('SCH Panel Summary Template-2022.txt'), PosixPath('about_me.txt')]"
            ]
          },
          "metadata": {},
          "execution_count": 5
        }
      ]
    },
    {
      "cell_type": "code",
      "source": [
        "with open('about_me.txt') as f:\n",
        "    sentences = f.readlines()\n",
        "stripped_lines = [s.rstrip() for s in sentences]"
      ],
      "metadata": {
        "id": "s6hzCZEOHnGf"
      },
      "execution_count": 6,
      "outputs": []
    },
    {
      "cell_type": "code",
      "execution_count": 7,
      "metadata": {
        "colab": {
          "base_uri": "https://localhost:8080/",
          "height": 139
        },
        "id": "xCIN09UdsYSQ",
        "outputId": "bb5bd9ad-4646-4d37-ccab-af0807fc8195"
      },
      "outputs": [
        {
          "output_type": "execute_result",
          "data": {
            "text/plain": [
              "'I joined Accenture LLP, USA in October 2021 as Senior Manager and Global Image Automation Lead. We have worked on several client facing projects ranging from Sports Injury Prediction to Delivering Analytical Solutions and Data Products for Deal Pricing in Accenture. My recent interests include Document automation, OCR and Generative AI Solutions for Data Streams and Tabular Data. We have developed an Automated Language Generation System that is a precursor to a chatGPT solution for Tabular Data.  Prior to Accenture, I was a part of a 4-person team that co-founded FourthBrain.ai amidst the COVID-19 crisis in mid 2020. Here I got to develop specialized Educational content to train and weather proof candidates in the field of Machine Learning. Our curriculum included rapid prototyping in Python, along with hands on Software knowledge to enable Continuous Deployment of ML applications. I believe in Life-long learning and continue to learn every single day through content creation, blogging, YouTube videos and Research papers.  Prior to my Entrepreneurial experience, I was at Volvocars, R&D Tech Office in Bay Area, California in From May 2017- August 2020. Here, our team worked on tackling vision and perception-related problems in the field of autonomous driving, advanced driver assistance systems and data science. My specialization includes out-of-the-box AI solutions applied to inter-disciplinary topics. In Spring 2019, I graduated the class of Engineering Leadership at UC Berkeley, following which we launched the \"University Relations Program\" at Volvo Cars USA, as an extension arm to External Research at Volvo Cars Sweden, to actively engage Industrial efforts with Universities, Research Labs and Policy governing institutions.  Prior to my \"Industrial Experience \", my \"Academic Experience\" includes a stint as Assistant Professor (tenure-track) in the Department of Electrical and Computer Engineering in the Engineering and Mathematics Division at the University of Washington-Bothell from September 2014-May 2017. Till date, I remain affiliated to academia through several Industry-led academic projects and as Adjunct Faculty in the Department of Computer Engineering at Santa Clara University.  I received my Ph.D. in Electrical and Computer Engineering from University of Minnesota, Twin Cities in August 2014 (under the joint supervision of Prof. Keshab K. Parhi and Dr. Dara Koozekanani), and M.S. from Kansas State University in May 2010 (under the joint supervision of Prof. Caterina Scoglio and Prof. William Hsu).'"
            ],
            "application/vnd.google.colaboratory.intrinsic+json": {
              "type": "string"
            }
          },
          "metadata": {},
          "execution_count": 7
        }
      ],
      "source": [
        "text = \" \".join(stripped_lines)\n",
        "text"
      ]
    },
    {
      "cell_type": "markdown",
      "source": [
        "### Step 2: Summarize the content of the page that was provided"
      ],
      "metadata": {
        "id": "5aspWygHN87y"
      }
    },
    {
      "cell_type": "code",
      "execution_count": 8,
      "metadata": {
        "colab": {
          "base_uri": "https://localhost:8080/"
        },
        "id": "7u4xDcDRsmAx",
        "outputId": "9d9d8710-8f66-452b-f530-e4457e87773e"
      },
      "outputs": [
        {
          "output_type": "stream",
          "name": "stderr",
          "text": [
            "Token indices sequence length is longer than the specified maximum sequence length for this model (542 > 512). Running this sequence through the model will result in indexing errors\n",
            "/usr/local/lib/python3.9/dist-packages/transformers/generation/utils.py:1201: UserWarning: You have modified the pretrained model configuration to control generation. This is a deprecated strategy to control generation and will be removed soon, in a future version. Please use a generation configuration file (see https://huggingface.co/docs/transformers/main_classes/text_generation)\n",
            "  warnings.warn(\n"
          ]
        },
        {
          "output_type": "stream",
          "name": "stdout",
          "text": [
            "Summarization took 2.55 minutes.\n"
          ]
        }
      ],
      "source": [
        "t0 = time.time() # timer\n",
        "summary = summarizer_t5(text, min_length=300, max_length=500) # change min_ and max_length for different output\n",
        "print(\"Summarization took \" + str(round((time.time() - t0) / 60, 2)) + \" minutes.\")"
      ]
    },
    {
      "cell_type": "code",
      "execution_count": 9,
      "metadata": {
        "id": "sWZGw-fDtN_N",
        "colab": {
          "base_uri": "https://localhost:8080/",
          "height": 142
        },
        "outputId": "63024ff2-1098-49ca-fac7-a59a0604bd67"
      },
      "outputs": [
        {
          "output_type": "execute_result",
          "data": {
            "text/plain": [
              "\"prior to Accenture, i was a part of a 4-person team that co-founded FourthBrain.ai . my specialization includes out-of-the-box AI solutions applied to inter-disciplinary topics . I received my Ph.D. in electrical and computer engineering from university of minnesota . i continue to learn every single day through content creation, blogging, YouTube videos and Research papers - i believe in Life-long learning - and continue to study at the highest level of education a a- aa nnn na en a, n -n aen n- nen ena heaaa-na-en -a  asa à agré à la enne ap .n ànnacré à partir à une à des à un à, à lire à être s à-être au-en-l' à son àvà sè à1 àlà àon àà à-à .......................................................................................................................................................................................................................................................................... .............................................................. ...................................\""
            ],
            "application/vnd.google.colaboratory.intrinsic+json": {
              "type": "string"
            }
          },
          "metadata": {},
          "execution_count": 9
        }
      ],
      "source": [
        "summary[0]['summary_text']"
      ]
    },
    {
      "cell_type": "code",
      "execution_count": 10,
      "metadata": {
        "id": "EZysIqwCvatf",
        "colab": {
          "base_uri": "https://localhost:8080/"
        },
        "outputId": "470e50f3-ee30-4670-e9ba-07802649c9f2"
      },
      "outputs": [
        {
          "output_type": "stream",
          "name": "stdout",
          "text": [
            "Looking in indexes: https://pypi.org/simple, https://us-python.pkg.dev/colab-wheels/public/simple/\n",
            "Requirement already satisfied: sentencepiece in /usr/local/lib/python3.9/dist-packages (0.1.97)\n"
          ]
        }
      ],
      "source": [
        "! pip install sentencepiece"
      ]
    },
    {
      "cell_type": "markdown",
      "source": [
        "### Step 3: Paraphraze the summary"
      ],
      "metadata": {
        "id": "e1beMeFmOJWr"
      }
    },
    {
      "cell_type": "code",
      "execution_count": 11,
      "metadata": {
        "id": "vPWgCjRVt4_6",
        "colab": {
          "base_uri": "https://localhost:8080/"
        },
        "outputId": "8dd63af7-e045-4465-dae1-399d73205a0c"
      },
      "outputs": [
        {
          "output_type": "stream",
          "name": "stderr",
          "text": [
            "/usr/local/lib/python3.9/dist-packages/transformers/tokenization_utils_base.py:2346: FutureWarning: The `pad_to_max_length` argument is deprecated and will be removed in a future version, use `padding=True` or `padding='longest'` to pad to the longest sequence in the batch, or use `padding='max_length'` to pad to a max length. In this case, you can give a specific length with `max_length` (e.g. `max_length=45`) or leave max_length to None to pad to the maximal input size of the model (e.g. 512 for Bert).\n",
            "  warnings.warn(\n"
          ]
        },
        {
          "output_type": "stream",
          "name": "stdout",
          "text": [
            "Paraphrased sentences :: \n",
            "0: After completing my Ph.D. in electrical and computer engineering from university of Minnesota, I joined the team at FourthBrain.ai and have been passionate about deep learning and collaboration with diverse fields, studying lifelong skills.\n",
            "1: I'm a former member of the 4-person team that co-founded FourthBrain.ai. I'm passionate about exploring innovative AI options that intersect various fields and have completed my Ph.D. in electrical and computer engineering from the University of Minnesota. I continue to grow and improve through daily content creation, blogging, YouTube videos, and research papers. I have a strong belief in lifelong learning, so I aim to study at the highest level.\n",
            "2: I worked for Accenture and was recently part of a 4-person team that created FourthBrain.ai. I have an affinity for innovative AI concepts that are applied across different fields. I received my Ph.D. from the university of Minnesota and am still learning today. I am passionate about Life-Long learning and enjoy creating content, blogging, and publishing videos and papers.\n"
          ]
        }
      ],
      "source": [
        "from transformers import AutoTokenizer, AutoModelForSeq2SeqLM\n",
        "\n",
        "device = \"cpu\"\n",
        "\n",
        "tokenizer = AutoTokenizer.from_pretrained(\"humarin/chatgpt_paraphraser_on_T5_base\")\n",
        "model = AutoModelForSeq2SeqLM.from_pretrained(\"humarin/chatgpt_paraphraser_on_T5_base\").to(device)\n",
        "\n",
        "sentence = summary[0]['summary_text']\n",
        "# sentence = \"What are the ingredients required to bake a perfect cake?\"\n",
        "# sentence = \"What is the best possible approach to learn aeronautical engineering?\"\n",
        "# sentence = \"Do apples taste better than oranges in general?\"\n",
        "\n",
        "\n",
        "text =  \"paraphrase: \" + sentence + \" </s>\"\n",
        "\n",
        "\n",
        "max_len = 500\n",
        "\n",
        "encoding = tokenizer.encode_plus(text,pad_to_max_length=True, return_tensors=\"pt\")\n",
        "input_ids, attention_masks = encoding[\"input_ids\"].to(device), encoding[\"attention_mask\"].to(device)\n",
        "\n",
        "\n",
        "# set top_k = 50 and set top_p = 0.95 and num_return_sequences = 3\n",
        "beam_outputs = model.generate(\n",
        "    input_ids=input_ids, attention_mask=attention_masks,\n",
        "    do_sample=True,\n",
        "    max_length=800,\n",
        "    top_k=500,\n",
        "    top_p=0.98,\n",
        "    early_stopping=True,\n",
        "    num_return_sequences=3\n",
        ")\n",
        "\n",
        "\n",
        "print (\"Paraphrased sentences :: \")\n",
        "final_outputs =[]\n",
        "for beam_output in beam_outputs:\n",
        "    sent = tokenizer.decode(beam_output, skip_special_tokens=True,clean_up_tokenization_spaces=True)\n",
        "    if sent.lower() != sentence.lower() and sent not in final_outputs:\n",
        "        final_outputs.append(sent)\n",
        "\n",
        "for i, final_output in enumerate(final_outputs):\n",
        "    print(\"{}: {}\".format(i, final_output))"
      ]
    },
    {
      "cell_type": "code",
      "source": [
        "final_outputs[0]"
      ],
      "metadata": {
        "id": "JacSd5OPXxHw",
        "colab": {
          "base_uri": "https://localhost:8080/",
          "height": 53
        },
        "outputId": "0549464a-b341-4aac-a373-8868360ee512"
      },
      "execution_count": 12,
      "outputs": [
        {
          "output_type": "execute_result",
          "data": {
            "text/plain": [
              "'After completing my Ph.D. in electrical and computer engineering from university of Minnesota, I joined the team at FourthBrain.ai and have been passionate about deep learning and collaboration with diverse fields, studying lifelong skills.'"
            ],
            "application/vnd.google.colaboratory.intrinsic+json": {
              "type": "string"
            }
          },
          "metadata": {},
          "execution_count": 12
        }
      ]
    },
    {
      "cell_type": "code",
      "source": [
        "final_outputs[1]"
      ],
      "metadata": {
        "colab": {
          "base_uri": "https://localhost:8080/",
          "height": 70
        },
        "id": "TClpWyTJLPsk",
        "outputId": "318c30db-fd3d-4d21-c97c-9807f68ad03c"
      },
      "execution_count": 13,
      "outputs": [
        {
          "output_type": "execute_result",
          "data": {
            "text/plain": [
              "\"I'm a former member of the 4-person team that co-founded FourthBrain.ai. I'm passionate about exploring innovative AI options that intersect various fields and have completed my Ph.D. in electrical and computer engineering from the University of Minnesota. I continue to grow and improve through daily content creation, blogging, YouTube videos, and research papers. I have a strong belief in lifelong learning, so I aim to study at the highest level.\""
            ],
            "application/vnd.google.colaboratory.intrinsic+json": {
              "type": "string"
            }
          },
          "metadata": {},
          "execution_count": 13
        }
      ]
    },
    {
      "cell_type": "code",
      "source": [
        "final_outputs[2]"
      ],
      "metadata": {
        "colab": {
          "base_uri": "https://localhost:8080/",
          "height": 70
        },
        "id": "dHdaqGMqLUfh",
        "outputId": "c4dcd4b0-04c7-490d-c852-3460a6215929"
      },
      "execution_count": 14,
      "outputs": [
        {
          "output_type": "execute_result",
          "data": {
            "text/plain": [
              "'I worked for Accenture and was recently part of a 4-person team that created FourthBrain.ai. I have an affinity for innovative AI concepts that are applied across different fields. I received my Ph.D. from the university of Minnesota and am still learning today. I am passionate about Life-Long learning and enjoy creating content, blogging, and publishing videos and papers.'"
            ],
            "application/vnd.google.colaboratory.intrinsic+json": {
              "type": "string"
            }
          },
          "metadata": {},
          "execution_count": 14
        }
      ]
    },
    {
      "cell_type": "markdown",
      "source": [
        "### This example demonstrates how the chatGPT features operate. To further fine tune, you can try question answering models in Step 2 followed by further fine-tuning the paraphrazer.\n",
        "E.g. https://huggingface.co/deepset/tinyroberta-squad2\n",
        "\n",
        "https://huggingface.co/potsawee/t5-large-generation-squad-QuestionAnswer\n",
        "\n",
        "https://huggingface.co/mrm8488/t5-base-finetuned-summarize-news\n",
        "\n",
        "https://huggingface.co/ramsrigouthamg/t5-large-paraphraser-diverse-high-quality\n",
        "\n"
      ],
      "metadata": {
        "id": "yYMiOazmOOik"
      }
    }
  ],
  "metadata": {
    "colab": {
      "provenance": [],
      "authorship_tag": "ABX9TyOgDnNaTDi3GzPjj2bf+9By",
      "include_colab_link": true
    },
    "kernelspec": {
      "display_name": "Python 3",
      "name": "python3"
    },
    "language_info": {
      "name": "python"
    },
    "accelerator": "GPU",
    "gpuClass": "standard"
  },
  "nbformat": 4,
  "nbformat_minor": 0
}